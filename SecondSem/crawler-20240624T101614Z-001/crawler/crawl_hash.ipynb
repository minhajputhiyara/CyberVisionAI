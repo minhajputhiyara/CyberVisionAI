{
 "cells": [
  {
   "cell_type": "code",
   "execution_count": 1,
   "metadata": {},
   "outputs": [
    {
     "name": "stdout",
     "output_type": "stream",
     "text": [
      "Defaulting to user installation because normal site-packages is not writeable\n",
      "\u001b[33mWARNING: Ignoring invalid distribution -cikit-learn (/home/user/.local/lib/python3.10/site-packages)\u001b[0m\u001b[33m\n",
      "\u001b[0mRequirement already satisfied: selenium in /home/user/.local/lib/python3.10/site-packages (4.22.0)\n",
      "Requirement already satisfied: urllib3<3,>=1.26 in /usr/lib/python3/dist-packages (from urllib3[socks]<3,>=1.26->selenium) (1.26.5)\n",
      "Requirement already satisfied: trio~=0.17 in /home/user/.local/lib/python3.10/site-packages (from selenium) (0.25.1)\n",
      "Requirement already satisfied: trio-websocket~=0.9 in /home/user/.local/lib/python3.10/site-packages (from selenium) (0.11.1)\n",
      "Requirement already satisfied: certifi>=2021.10.8 in /home/user/.local/lib/python3.10/site-packages (from selenium) (2024.2.2)\n",
      "Requirement already satisfied: typing_extensions>=4.9.0 in /home/user/.local/lib/python3.10/site-packages (from selenium) (4.11.0)\n",
      "Requirement already satisfied: websocket-client>=1.8.0 in /home/user/.local/lib/python3.10/site-packages (from selenium) (1.8.0)\n",
      "Requirement already satisfied: attrs>=23.2.0 in /usr/local/lib/python3.10/dist-packages (from trio~=0.17->selenium) (23.2.0)\n",
      "Requirement already satisfied: sortedcontainers in /home/user/.local/lib/python3.10/site-packages (from trio~=0.17->selenium) (2.4.0)\n",
      "Requirement already satisfied: idna in /usr/lib/python3/dist-packages (from trio~=0.17->selenium) (3.3)\n",
      "Requirement already satisfied: outcome in /home/user/.local/lib/python3.10/site-packages (from trio~=0.17->selenium) (1.3.0.post0)\n",
      "Requirement already satisfied: sniffio>=1.3.0 in /home/user/.local/lib/python3.10/site-packages (from trio~=0.17->selenium) (1.3.1)\n",
      "Requirement already satisfied: exceptiongroup in /home/user/.local/lib/python3.10/site-packages (from trio~=0.17->selenium) (1.2.0)\n",
      "Requirement already satisfied: wsproto>=0.14 in /home/user/.local/lib/python3.10/site-packages (from trio-websocket~=0.9->selenium) (1.2.0)\n",
      "Requirement already satisfied: PySocks!=1.5.7,<2.0,>=1.5.6 in /home/user/.local/lib/python3.10/site-packages (from urllib3[socks]<3,>=1.26->selenium) (1.7.1)\n",
      "Requirement already satisfied: h11<1,>=0.9.0 in /home/user/.local/lib/python3.10/site-packages (from wsproto>=0.14->trio-websocket~=0.9->selenium) (0.14.0)\n",
      "\u001b[33mWARNING: Ignoring invalid distribution -cikit-learn (/home/user/.local/lib/python3.10/site-packages)\u001b[0m\u001b[33m\n",
      "\u001b[0m\u001b[33mWARNING: Ignoring invalid distribution -cikit-learn (/home/user/.local/lib/python3.10/site-packages)\u001b[0m\u001b[33m\n",
      "\u001b[0mNote: you may need to restart the kernel to use updated packages.\n"
     ]
    }
   ],
   "source": [
    "pip install selenium"
   ]
  },
  {
   "cell_type": "code",
   "execution_count": 2,
   "metadata": {},
   "outputs": [
    {
     "name": "stdout",
     "output_type": "stream",
     "text": [
      "Defaulting to user installation because normal site-packages is not writeable\n",
      "\u001b[33mWARNING: Ignoring invalid distribution -cikit-learn (/home/user/.local/lib/python3.10/site-packages)\u001b[0m\u001b[33m\n",
      "\u001b[0mRequirement already satisfied: webdriver-manager in /home/user/.local/lib/python3.10/site-packages (4.0.1)\n",
      "Requirement already satisfied: requests in /home/user/.local/lib/python3.10/site-packages (from webdriver-manager) (2.32.3)\n",
      "Requirement already satisfied: python-dotenv in /home/user/.local/lib/python3.10/site-packages (from webdriver-manager) (1.0.1)\n",
      "Requirement already satisfied: packaging in /home/user/.local/lib/python3.10/site-packages (from webdriver-manager) (24.0)\n",
      "Requirement already satisfied: charset-normalizer<4,>=2 in /home/user/.local/lib/python3.10/site-packages (from requests->webdriver-manager) (3.3.2)\n",
      "Requirement already satisfied: idna<4,>=2.5 in /usr/lib/python3/dist-packages (from requests->webdriver-manager) (3.3)\n",
      "Requirement already satisfied: urllib3<3,>=1.21.1 in /usr/lib/python3/dist-packages (from requests->webdriver-manager) (1.26.5)\n",
      "Requirement already satisfied: certifi>=2017.4.17 in /home/user/.local/lib/python3.10/site-packages (from requests->webdriver-manager) (2024.2.2)\n",
      "\u001b[33mWARNING: Ignoring invalid distribution -cikit-learn (/home/user/.local/lib/python3.10/site-packages)\u001b[0m\u001b[33m\n",
      "\u001b[0m\u001b[33mWARNING: Ignoring invalid distribution -cikit-learn (/home/user/.local/lib/python3.10/site-packages)\u001b[0m\u001b[33m\n",
      "\u001b[0mNote: you may need to restart the kernel to use updated packages.\n"
     ]
    }
   ],
   "source": [
    "pip install webdriver-manager"
   ]
  },
  {
   "cell_type": "code",
   "execution_count": 3,
   "metadata": {},
   "outputs": [
    {
     "name": "stdout",
     "output_type": "stream",
     "text": [
      "Defaulting to user installation because normal site-packages is not writeable\n",
      "\u001b[33mWARNING: Ignoring invalid distribution -cikit-learn (/home/user/.local/lib/python3.10/site-packages)\u001b[0m\u001b[33m\n",
      "\u001b[0mRequirement already satisfied: pyyaml in /home/user/.local/lib/python3.10/site-packages (6.0.1)\n",
      "Requirement already satisfied: ua-parser in /home/user/.local/lib/python3.10/site-packages (0.18.0)\n",
      "Requirement already satisfied: user-agents in /home/user/.local/lib/python3.10/site-packages (2.2.0)\n",
      "Requirement already satisfied: fake-useragent in /home/user/.local/lib/python3.10/site-packages (1.5.1)\n",
      "\u001b[33mWARNING: Ignoring invalid distribution -cikit-learn (/home/user/.local/lib/python3.10/site-packages)\u001b[0m\u001b[33m\n",
      "\u001b[0m\u001b[33mWARNING: Ignoring invalid distribution -cikit-learn (/home/user/.local/lib/python3.10/site-packages)\u001b[0m\u001b[33m\n",
      "\u001b[0mNote: you may need to restart the kernel to use updated packages.\n"
     ]
    }
   ],
   "source": [
    "pip install pyyaml ua-parser user-agents fake-useragent"
   ]
  },
  {
   "cell_type": "code",
   "execution_count": 4,
   "metadata": {},
   "outputs": [
    {
     "name": "stdout",
     "output_type": "stream",
     "text": [
      "Defaulting to user installation because normal site-packages is not writeable\n",
      "\u001b[33mWARNING: Ignoring invalid distribution -cikit-learn (/home/user/.local/lib/python3.10/site-packages)\u001b[0m\u001b[33m\n",
      "\u001b[0mRequirement already satisfied: pyshadow in /home/user/.local/lib/python3.10/site-packages (0.0.5)\n",
      "Requirement already satisfied: multipledispatch>=0.6.0 in /home/user/.local/lib/python3.10/site-packages (from pyshadow) (1.0.0)\n",
      "Requirement already satisfied: selenium>=3.141.0 in /home/user/.local/lib/python3.10/site-packages (from pyshadow) (4.22.0)\n",
      "Requirement already satisfied: webdriver-manager>=2.5.3 in /home/user/.local/lib/python3.10/site-packages (from pyshadow) (4.0.1)\n",
      "Requirement already satisfied: urllib3<3,>=1.26 in /usr/lib/python3/dist-packages (from urllib3[socks]<3,>=1.26->selenium>=3.141.0->pyshadow) (1.26.5)\n",
      "Requirement already satisfied: trio~=0.17 in /home/user/.local/lib/python3.10/site-packages (from selenium>=3.141.0->pyshadow) (0.25.1)\n",
      "Requirement already satisfied: trio-websocket~=0.9 in /home/user/.local/lib/python3.10/site-packages (from selenium>=3.141.0->pyshadow) (0.11.1)\n",
      "Requirement already satisfied: certifi>=2021.10.8 in /home/user/.local/lib/python3.10/site-packages (from selenium>=3.141.0->pyshadow) (2024.2.2)\n",
      "Requirement already satisfied: typing_extensions>=4.9.0 in /home/user/.local/lib/python3.10/site-packages (from selenium>=3.141.0->pyshadow) (4.11.0)\n",
      "Requirement already satisfied: websocket-client>=1.8.0 in /home/user/.local/lib/python3.10/site-packages (from selenium>=3.141.0->pyshadow) (1.8.0)\n",
      "Requirement already satisfied: requests in /home/user/.local/lib/python3.10/site-packages (from webdriver-manager>=2.5.3->pyshadow) (2.32.3)\n",
      "Requirement already satisfied: python-dotenv in /home/user/.local/lib/python3.10/site-packages (from webdriver-manager>=2.5.3->pyshadow) (1.0.1)\n",
      "Requirement already satisfied: packaging in /home/user/.local/lib/python3.10/site-packages (from webdriver-manager>=2.5.3->pyshadow) (24.0)\n",
      "Requirement already satisfied: attrs>=23.2.0 in /usr/local/lib/python3.10/dist-packages (from trio~=0.17->selenium>=3.141.0->pyshadow) (23.2.0)\n",
      "Requirement already satisfied: sortedcontainers in /home/user/.local/lib/python3.10/site-packages (from trio~=0.17->selenium>=3.141.0->pyshadow) (2.4.0)\n",
      "Requirement already satisfied: idna in /usr/lib/python3/dist-packages (from trio~=0.17->selenium>=3.141.0->pyshadow) (3.3)\n",
      "Requirement already satisfied: outcome in /home/user/.local/lib/python3.10/site-packages (from trio~=0.17->selenium>=3.141.0->pyshadow) (1.3.0.post0)\n",
      "Requirement already satisfied: sniffio>=1.3.0 in /home/user/.local/lib/python3.10/site-packages (from trio~=0.17->selenium>=3.141.0->pyshadow) (1.3.1)\n",
      "Requirement already satisfied: exceptiongroup in /home/user/.local/lib/python3.10/site-packages (from trio~=0.17->selenium>=3.141.0->pyshadow) (1.2.0)\n",
      "Requirement already satisfied: wsproto>=0.14 in /home/user/.local/lib/python3.10/site-packages (from trio-websocket~=0.9->selenium>=3.141.0->pyshadow) (1.2.0)\n",
      "Requirement already satisfied: PySocks!=1.5.7,<2.0,>=1.5.6 in /home/user/.local/lib/python3.10/site-packages (from urllib3[socks]<3,>=1.26->selenium>=3.141.0->pyshadow) (1.7.1)\n",
      "Requirement already satisfied: charset-normalizer<4,>=2 in /home/user/.local/lib/python3.10/site-packages (from requests->webdriver-manager>=2.5.3->pyshadow) (3.3.2)\n",
      "Requirement already satisfied: h11<1,>=0.9.0 in /home/user/.local/lib/python3.10/site-packages (from wsproto>=0.14->trio-websocket~=0.9->selenium>=3.141.0->pyshadow) (0.14.0)\n",
      "\u001b[33mWARNING: Ignoring invalid distribution -cikit-learn (/home/user/.local/lib/python3.10/site-packages)\u001b[0m\u001b[33m\n",
      "\u001b[0m\u001b[33mWARNING: Ignoring invalid distribution -cikit-learn (/home/user/.local/lib/python3.10/site-packages)\u001b[0m\u001b[33m\n",
      "\u001b[0mNote: you may need to restart the kernel to use updated packages.\n"
     ]
    }
   ],
   "source": [
    "pip install pyshadow"
   ]
  },
  {
   "cell_type": "code",
   "execution_count": 5,
   "metadata": {},
   "outputs": [],
   "source": [
    "from selenium import webdriver\n",
    "from selenium.webdriver.chrome.service import Service as ChromeService\n",
    "from selenium.webdriver.chrome.options import Options\n",
    "from webdriver_manager.chrome import ChromeDriverManager\n",
    "from fake_useragent import UserAgent\n",
    "from bs4 import BeautifulSoup\n",
    "from pyshadow.main import Shadow\n",
    "import json\n",
    "import time"
   ]
  },
  {
   "cell_type": "code",
   "execution_count": 6,
   "metadata": {},
   "outputs": [],
   "source": [
    "json_file = 'riskware_output.json'\n",
    "\n",
    "def update_json_file(file_path, new_data):\n",
    "    with open(file_path, 'r') as file:\n",
    "        existing_data = json.load(file)\n",
    "    existing_data.update(new_data)\n",
    "    with open(file_path, 'w') as file:\n",
    "        json.dump(existing_data, file, indent=4)\n"
   ]
  },
  {
   "cell_type": "code",
   "execution_count": 7,
   "metadata": {},
   "outputs": [],
   "source": [
    "global driver"
   ]
  },
  {
   "cell_type": "code",
   "execution_count": 8,
   "metadata": {},
   "outputs": [],
   "source": [
    "captcha = False"
   ]
  },
  {
   "cell_type": "code",
   "execution_count": 9,
   "metadata": {},
   "outputs": [],
   "source": [
    "def crawl(hash):\n",
    "    global captcha\n",
    "    url = f\"https://www.virustotal.com/gui/file/{hash}/behavior\"\n",
    "    \n",
    "    options = Options()\n",
    "    ua = UserAgent()\n",
    "    user_agent = ua.random\n",
    "    print(user_agent)\n",
    "\n",
    "    options.add_argument(f'--user-agent={user_agent}')\n",
    "    options.add_argument('--window-size=600,400')\n",
    "\n",
    "    #options.add_argument(\"--headless\")\n",
    "    driver = webdriver.Chrome(options=options, service=ChromeService(ChromeDriverManager(driver_version='125.0.6422.142').install()))\n",
    "    driver.get(url)\n",
    "    \n",
    "    \n",
    "    # ################################\n",
    "\n",
    "    # wait for the page to load\n",
    "    time.sleep(30)\n",
    "    \n",
    "    # check if the page is a captcha page\n",
    "    if \"captcha\" in driver.title.lower():\n",
    "        captcha = True\n",
    "        print (\"Captcha found\")\n",
    "        return \"Captcha found\"\n",
    "    \n",
    "    shadow = Shadow(driver)\n",
    "    \n",
    "    try:\n",
    "        vt_ui_tree = shadow.find_element(\"vt-ui-mitre-tree#mitre-tree>vt-ui-expandable>span[slot='content']>div.position-relative\")\n",
    "    except:\n",
    "        return \"no data found\"\n",
    "    tree = BeautifulSoup(vt_ui_tree.get_attribute(\"outerHTML\"), \"html.parser\")\n",
    "    \n",
    "    # MAIN TREE\n",
    "    elements = tree.select(\"vt-ui-expandable-detail\")\n",
    "    time.sleep(5)\n",
    "    driver.close()\n",
    "    \n",
    "    output = {}\n",
    "    doc_name = hash\n",
    "    doc_data = {\n",
    "        \"mitre\": {}\n",
    "    }\n",
    "    \n",
    "    \n",
    "    for element in elements:\n",
    "        # MITRE NAME\n",
    "        label_content = element.select_one(\"span[slot='label-content']\")\n",
    "        a_tag = label_content.select_one(\"h5 > div > a\")\n",
    "        if a_tag:\n",
    "            inner_text = a_tag.get_text(strip=True)\n",
    "            doc_data[\"mitre\"][inner_text] = {}\n",
    "\n",
    "        # MITRE CODE\n",
    "        span_tag = label_content.select_one(\"h5 > div > span\")\n",
    "        if span_tag:\n",
    "            direct_text = ''.join(span_tag.find_all(text=True, recursive=False)).strip()\n",
    "            parts = direct_text.split('$')\n",
    "            ta_code = parts[-1]\n",
    "            doc_data[\"mitre\"][inner_text][\"tcode\"] = ta_code\n",
    "\n",
    "        # MITRE INNER DATA\n",
    "        table = element.select_one(\"span[slot='content'] > table\")\n",
    "        if table:\n",
    "            for row in table.find_all(\"tr\"):\n",
    "                # PROTOCOL\n",
    "                row_data = {}\n",
    "                a_tag = row.select_one(\"td > span > div > a\")\n",
    "                if a_tag:\n",
    "                    row_data[\"tcode\"] = a_tag.get_text(strip=True)\n",
    "                \n",
    "                # PROTOCOL CODE\n",
    "                span_tag = row.select_one(\"td > span > div > span\")\n",
    "                if span_tag:\n",
    "                    direct_text = ''.join(span_tag.find_all(text=True, recursive=False)).strip()\n",
    "                    parts = direct_text.split('$')\n",
    "                    ta_code = parts[-1]\n",
    "                    row_data[\"tcode\"] = ta_code\n",
    "                \n",
    "                # PROTOCOL METHOD\n",
    "                p_tag = row.select_one(\"td > span > div > p\")\n",
    "                if p_tag:\n",
    "                    row_data[\"method\"] = p_tag.get_text(strip=True)\n",
    "                if row_data:\n",
    "                    doc_data[\"mitre\"][inner_text].setdefault(\"subcategories\", []).append(row_data)\n",
    "\n",
    "    return doc_data\n"
   ]
  },
  {
   "cell_type": "code",
   "execution_count": null,
   "metadata": {
    "scrolled": true
   },
   "outputs": [
    {
     "name": "stdout",
     "output_type": "stream",
     "text": [
      "Processing 929F288F5A60CA53EB4CBCDD5F9DEAC679C31FA148C68248E7F9C148816A5497\n",
      "Mozilla/5.0 (iPhone; CPU iPhone OS 17_0 like Mac OS X) AppleWebKit/605.1.15 (KHTML, like Gecko) Version/17.0 Mobile/15E148 Safari/604.1 RDDocuments/8.4.8.940\n",
      "no data found\n",
      "Processing 92B3BF3C43F36F20116FCE1E6223E0CE40094771BC807623EF36243EB9330BA0\n",
      "Mozilla/5.0 (iPhone; CPU iPhone OS 17_0_1 like Mac OS X) AppleWebKit/605.1.15 (KHTML, like Gecko) Version/17.0 Mobile/15E148 Safari/604.1\n",
      "no data found\n",
      "Processing 92CCC4E96C94F934092D80BF9A150B4967E9A5F180F9FD9FCD5B0FD97243E69C\n",
      "Mozilla/5.0 (Linux; Android 10; K) AppleWebKit/537.36 (KHTML, like Gecko) Chrome/122.0.0.0 Mobile Safari/537.36\n",
      "no data found\n",
      "Processing 92CCE63AF9B3F945148847D536FE25B3985A98FA2727B1BE03EACC39221DB2E8\n",
      "Mozilla/5.0 (Windows NT 10.0; Win64; x64) AppleWebKit/537.36 (KHTML, like Gecko) Chrome/122.0.0.0 Safari/537.36\n",
      "no data found\n",
      "Processing 92D6EB0538C28F6B67BE1FFA341548F89B728E3300651860C08A66B475DD9EDB\n",
      "Mozilla/5.0 (Windows NT 10.0; Win64; x64; rv:123.0) Gecko/20100101 Firefox/123.0\n",
      "no data found\n",
      "Processing 92E95D2EC76F4E1830B213C2894D9B9AF957946DF719C6614F1D708DF0EBD9A4\n",
      "Mozilla/5.0 (Windows NT 10.0; Win64; x64) AppleWebKit/537.36 (KHTML, like Gecko) Chrome/121.0.0.0 Safari/537.36 Edg/121.0.0.0\n"
     ]
    }
   ],
   "source": [
    "#  read txt file and loop through lines\n",
    "with open('riskware.txt') as f:\n",
    "    hashes = f.read().splitlines()\n",
    "\n",
    "for hash in hashes:\n",
    "    print(f\"Processing {hash}\")\n",
    "    ow = crawl(hash)\n",
    "    print(ow)\n",
    "    if captcha == True:\n",
    "        print(\"Captcha detected, stopping.\")\n",
    "        break\n",
    "    output = { str(hash) : ow }\n",
    "    update_json_file(json_file, output)\n",
    "    #  remove line with hash value after processing\n",
    "    with open('riskware.txt', 'r') as f:\n",
    "        lines = f.readlines()\n",
    "    with open('riskware.txt', 'w') as f:\n",
    "        for line in lines:\n",
    "            if line.strip(\"\\n\") != hash:\n",
    "                f.write(line)\n",
    "    \n"
   ]
  },
  {
   "cell_type": "code",
   "execution_count": null,
   "metadata": {},
   "outputs": [],
   "source": []
  },
  {
   "cell_type": "code",
   "execution_count": null,
   "metadata": {},
   "outputs": [],
   "source": []
  },
  {
   "cell_type": "code",
   "execution_count": null,
   "metadata": {},
   "outputs": [],
   "source": []
  },
  {
   "cell_type": "code",
   "execution_count": null,
   "metadata": {},
   "outputs": [],
   "source": []
  },
  {
   "cell_type": "code",
   "execution_count": null,
   "metadata": {},
   "outputs": [],
   "source": []
  },
  {
   "cell_type": "code",
   "execution_count": null,
   "metadata": {},
   "outputs": [],
   "source": []
  }
 ],
 "metadata": {
  "kernelspec": {
   "display_name": "Python 3 (ipykernel)",
   "language": "python",
   "name": "python3"
  },
  "language_info": {
   "codemirror_mode": {
    "name": "ipython",
    "version": 3
   },
   "file_extension": ".py",
   "mimetype": "text/x-python",
   "name": "python",
   "nbconvert_exporter": "python",
   "pygments_lexer": "ipython3",
   "version": "3.10.12"
  }
 },
 "nbformat": 4,
 "nbformat_minor": 4
}
