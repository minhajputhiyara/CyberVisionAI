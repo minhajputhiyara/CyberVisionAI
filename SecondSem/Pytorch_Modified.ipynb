{
  "nbformat": 4,
  "nbformat_minor": 0,
  "metadata": {
    "colab": {
      "provenance": [],
      "gpuType": "V28"
    },
    "kernelspec": {
      "name": "python3",
      "display_name": "Python 3"
    },
    "language_info": {
      "name": "python"
    },
    "accelerator": "TPU"
  },
  "cells": [
    {
      "cell_type": "code",
      "source": [
        "from google.colab import drive\n",
        "drive.mount('/content/drive')\n"
      ],
      "metadata": {
        "colab": {
          "base_uri": "https://localhost:8080/"
        },
        "id": "ZB3zY-wUUbLN",
        "outputId": "f37763e9-69f0-45f5-b5ac-7f86f47075b9"
      },
      "execution_count": 20,
      "outputs": [
        {
          "output_type": "stream",
          "name": "stdout",
          "text": [
            "Drive already mounted at /content/drive; to attempt to forcibly remount, call drive.mount(\"/content/drive\", force_remount=True).\n"
          ]
        }
      ]
    },
    {
      "cell_type": "code",
      "execution_count": 17,
      "metadata": {
        "colab": {
          "base_uri": "https://localhost:8080/"
        },
        "id": "1C9znN58i6f3",
        "outputId": "ca36f815-520f-4200-c911-2589e9cd52f9"
      },
      "outputs": [
        {
          "output_type": "stream",
          "name": "stdout",
          "text": [
            "/content/drive/.shortcut-targets-by-id/1e_s52LoUFBat8BLGvGC96XkKahitNbby/syscall\n"
          ]
        }
      ],
      "source": [
        "%cd /content/drive/MyDrive/syscall"
      ]
    },
    {
      "cell_type": "code",
      "source": [
        "#!python Binary_BERT.py"
      ],
      "metadata": {
        "id": "z9IsPLfIjSvL"
      },
      "execution_count": 18,
      "outputs": []
    },
    {
      "cell_type": "code",
      "source": [
        "import pandas as pd\n",
        "import numpy as np\n",
        "import re\n",
        "import warnings\n",
        "import torch\n",
        "import torch.nn as nn\n",
        "import torch.optim as optim\n",
        "from torch.utils.data import Dataset, DataLoader\n",
        "from sklearn.model_selection import train_test_split\n",
        "from sklearn.preprocessing import LabelEncoder\n",
        "from sklearn.metrics import classification_report\n",
        "import torchtext\n",
        "import torchtext.data.utils as data_utils\n",
        "import torchtext.vocab as vocab\n",
        "from transformers import BertTokenizer, BertModel\n",
        "from tqdm import tqdm"
      ],
      "metadata": {
        "id": "cYV5i9fXUgKA",
        "colab": {
          "base_uri": "https://localhost:8080/",
          "height": 564
        },
        "outputId": "fee3799b-34bc-42e7-e961-f11dedf910b0"
      },
      "execution_count": 24,
      "outputs": [
        {
          "output_type": "error",
          "ename": "ImportError",
          "evalue": "cannot import name 'ArrowDtype' from 'pandas.core.dtypes.dtypes' (/usr/local/lib/python3.10/dist-packages/pandas/core/dtypes/dtypes.py)",
          "traceback": [
            "\u001b[0;31m---------------------------------------------------------------------------\u001b[0m",
            "\u001b[0;31mImportError\u001b[0m                               Traceback (most recent call last)",
            "\u001b[0;32m<ipython-input-24-b2df4ff46638>\u001b[0m in \u001b[0;36m<cell line: 1>\u001b[0;34m()\u001b[0m\n\u001b[0;32m----> 1\u001b[0;31m \u001b[0;32mimport\u001b[0m \u001b[0mpandas\u001b[0m \u001b[0;32mas\u001b[0m \u001b[0mpd\u001b[0m\u001b[0;34m\u001b[0m\u001b[0;34m\u001b[0m\u001b[0m\n\u001b[0m\u001b[1;32m      2\u001b[0m \u001b[0;32mimport\u001b[0m \u001b[0mnumpy\u001b[0m \u001b[0;32mas\u001b[0m \u001b[0mnp\u001b[0m\u001b[0;34m\u001b[0m\u001b[0;34m\u001b[0m\u001b[0m\n\u001b[1;32m      3\u001b[0m \u001b[0;32mimport\u001b[0m \u001b[0mre\u001b[0m\u001b[0;34m\u001b[0m\u001b[0;34m\u001b[0m\u001b[0m\n\u001b[1;32m      4\u001b[0m \u001b[0;32mimport\u001b[0m \u001b[0mwarnings\u001b[0m\u001b[0;34m\u001b[0m\u001b[0;34m\u001b[0m\u001b[0m\n\u001b[1;32m      5\u001b[0m \u001b[0;32mimport\u001b[0m \u001b[0mtorch\u001b[0m\u001b[0;34m\u001b[0m\u001b[0;34m\u001b[0m\u001b[0m\n",
            "\u001b[0;32m/usr/local/lib/python3.10/dist-packages/pandas/__init__.py\u001b[0m in \u001b[0;36m<module>\u001b[0;34m\u001b[0m\n\u001b[1;32m     47\u001b[0m \u001b[0;32mimport\u001b[0m \u001b[0mpandas\u001b[0m\u001b[0;34m.\u001b[0m\u001b[0mcore\u001b[0m\u001b[0;34m.\u001b[0m\u001b[0mconfig_init\u001b[0m  \u001b[0;31m# pyright: ignore[reportUnusedImport] # noqa: F401\u001b[0m\u001b[0;34m\u001b[0m\u001b[0;34m\u001b[0m\u001b[0m\n\u001b[1;32m     48\u001b[0m \u001b[0;34m\u001b[0m\u001b[0m\n\u001b[0;32m---> 49\u001b[0;31m from pandas.core.api import (\n\u001b[0m\u001b[1;32m     50\u001b[0m     \u001b[0;31m# dtype\u001b[0m\u001b[0;34m\u001b[0m\u001b[0;34m\u001b[0m\u001b[0m\n\u001b[1;32m     51\u001b[0m     \u001b[0mArrowDtype\u001b[0m\u001b[0;34m,\u001b[0m\u001b[0;34m\u001b[0m\u001b[0;34m\u001b[0m\u001b[0m\n",
            "\u001b[0;32m/usr/local/lib/python3.10/dist-packages/pandas/core/api.py\u001b[0m in \u001b[0;36m<module>\u001b[0;34m\u001b[0m\n\u001b[1;32m      7\u001b[0m \u001b[0;32mfrom\u001b[0m \u001b[0mpandas\u001b[0m\u001b[0;34m.\u001b[0m\u001b[0m_libs\u001b[0m\u001b[0;34m.\u001b[0m\u001b[0mmissing\u001b[0m \u001b[0;32mimport\u001b[0m \u001b[0mNA\u001b[0m\u001b[0;34m\u001b[0m\u001b[0;34m\u001b[0m\u001b[0m\n\u001b[1;32m      8\u001b[0m \u001b[0;34m\u001b[0m\u001b[0m\n\u001b[0;32m----> 9\u001b[0;31m from pandas.core.dtypes.dtypes import (\n\u001b[0m\u001b[1;32m     10\u001b[0m     \u001b[0mArrowDtype\u001b[0m\u001b[0;34m,\u001b[0m\u001b[0;34m\u001b[0m\u001b[0;34m\u001b[0m\u001b[0m\n\u001b[1;32m     11\u001b[0m     \u001b[0mCategoricalDtype\u001b[0m\u001b[0;34m,\u001b[0m\u001b[0;34m\u001b[0m\u001b[0;34m\u001b[0m\u001b[0m\n",
            "\u001b[0;31mImportError\u001b[0m: cannot import name 'ArrowDtype' from 'pandas.core.dtypes.dtypes' (/usr/local/lib/python3.10/dist-packages/pandas/core/dtypes/dtypes.py)",
            "",
            "\u001b[0;31m---------------------------------------------------------------------------\u001b[0;32m\nNOTE: If your import is failing due to a missing package, you can\nmanually install dependencies using either !pip or !apt.\n\nTo view examples of installing some common dependencies, click the\n\"Open Examples\" button below.\n\u001b[0;31m---------------------------------------------------------------------------\u001b[0m\n"
          ],
          "errorDetails": {
            "actions": [
              {
                "action": "open_url",
                "actionText": "Open Examples",
                "url": "/notebooks/snippets/importing_libraries.ipynb"
              }
            ]
          }
        }
      ]
    },
    {
      "cell_type": "code",
      "source": [
        "# Load Data\n",
        "df = pd.read_csv('ultraclean_final_systemcalls_label.csv').dropna()\n",
        "df = df.sample(frac=1).reset_index(drop=True)\n",
        "\n",
        "# Split Data\n",
        "train_df, test_df = train_test_split(df, random_state=41, train_size=0.8, stratify=df['label'])\n",
        "\n",
        "# Preprocess Labels\n",
        "label_encoder = LabelEncoder()\n",
        "train_df['label'] = label_encoder.fit_transform(train_df['label'])\n",
        "test_df['label'] = label_encoder.transform(test_df['label'])"
      ],
      "metadata": {
        "id": "Ap4l5e7MUnYD",
        "colab": {
          "base_uri": "https://localhost:8080/",
          "height": 211
        },
        "outputId": "1ec32f0f-0d7f-44d5-b975-9587cd23b838"
      },
      "execution_count": 23,
      "outputs": [
        {
          "output_type": "error",
          "ename": "NameError",
          "evalue": "name 'pd' is not defined",
          "traceback": [
            "\u001b[0;31m---------------------------------------------------------------------------\u001b[0m",
            "\u001b[0;31mNameError\u001b[0m                                 Traceback (most recent call last)",
            "\u001b[0;32m<ipython-input-23-688ed923b91d>\u001b[0m in \u001b[0;36m<cell line: 2>\u001b[0;34m()\u001b[0m\n\u001b[1;32m      1\u001b[0m \u001b[0;31m# Load Data\u001b[0m\u001b[0;34m\u001b[0m\u001b[0;34m\u001b[0m\u001b[0m\n\u001b[0;32m----> 2\u001b[0;31m \u001b[0mdf\u001b[0m \u001b[0;34m=\u001b[0m \u001b[0mpd\u001b[0m\u001b[0;34m.\u001b[0m\u001b[0mread_csv\u001b[0m\u001b[0;34m(\u001b[0m\u001b[0;34m'ultraclean_final_systemcalls_label.csv'\u001b[0m\u001b[0;34m)\u001b[0m\u001b[0;34m.\u001b[0m\u001b[0mdropna\u001b[0m\u001b[0;34m(\u001b[0m\u001b[0;34m)\u001b[0m\u001b[0;34m\u001b[0m\u001b[0;34m\u001b[0m\u001b[0m\n\u001b[0m\u001b[1;32m      3\u001b[0m \u001b[0mdf\u001b[0m \u001b[0;34m=\u001b[0m \u001b[0mdf\u001b[0m\u001b[0;34m.\u001b[0m\u001b[0msample\u001b[0m\u001b[0;34m(\u001b[0m\u001b[0mfrac\u001b[0m\u001b[0;34m=\u001b[0m\u001b[0;36m1\u001b[0m\u001b[0;34m)\u001b[0m\u001b[0;34m.\u001b[0m\u001b[0mreset_index\u001b[0m\u001b[0;34m(\u001b[0m\u001b[0mdrop\u001b[0m\u001b[0;34m=\u001b[0m\u001b[0;32mTrue\u001b[0m\u001b[0;34m)\u001b[0m\u001b[0;34m\u001b[0m\u001b[0;34m\u001b[0m\u001b[0m\n\u001b[1;32m      4\u001b[0m \u001b[0;34m\u001b[0m\u001b[0m\n\u001b[1;32m      5\u001b[0m \u001b[0;31m# Split Data\u001b[0m\u001b[0;34m\u001b[0m\u001b[0;34m\u001b[0m\u001b[0m\n",
            "\u001b[0;31mNameError\u001b[0m: name 'pd' is not defined"
          ]
        }
      ]
    },
    {
      "cell_type": "code",
      "source": [
        "df"
      ],
      "metadata": {
        "id": "Smix_5x-xJWM"
      },
      "execution_count": null,
      "outputs": []
    },
    {
      "cell_type": "code",
      "source": [
        "df['label'].value_counts()"
      ],
      "metadata": {
        "id": "UDd6N3XqaNj-"
      },
      "execution_count": null,
      "outputs": []
    },
    {
      "cell_type": "code",
      "source": [
        "# Define Dataset Class\n",
        "class SystemCallsDataset(Dataset):\n",
        "    def __init__(self, dataframe):\n",
        "        self.data = dataframe\n",
        "\n",
        "    def __len__(self):\n",
        "        return len(self.data)\n",
        "\n",
        "    def __getitem__(self, idx):\n",
        "        text = self.data.iloc[idx]['systemcalls']\n",
        "        label = self.data.iloc[idx]['label']\n",
        "        return text, label"
      ],
      "metadata": {
        "id": "K30xfIcSUr3P"
      },
      "execution_count": null,
      "outputs": []
    },
    {
      "cell_type": "code",
      "source": [
        "# Create Datasets\n",
        "train_dataset = SystemCallsDataset(train_df)\n",
        "test_dataset = SystemCallsDataset(test_df)\n",
        "\n",
        "# Define Tokenizer and Model\n",
        "tokenizer = BertTokenizer.from_pretrained('bert-base-uncased')\n",
        "bert_model = BertModel.from_pretrained('bert-base-uncased')"
      ],
      "metadata": {
        "id": "cyHCKR-DUved"
      },
      "execution_count": null,
      "outputs": []
    },
    {
      "cell_type": "code",
      "source": [
        "# Model Architecture\n",
        "class BERTClassifier(nn.Module):\n",
        "    def __init__(self, bert_model, num_classes):\n",
        "        super(BERTClassifier, self).__init__()\n",
        "        self.bert = bert_model\n",
        "        self.fc = nn.Linear(self.bert.config.hidden_size, num_classes)\n",
        "\n",
        "    def forward(self, input_ids, attention_mask):\n",
        "        outputs = self.bert(input_ids=input_ids, attention_mask=attention_mask)\n",
        "        pooled_output = outputs.pooler_output\n",
        "        logits = self.fc(pooled_output)\n",
        "        return logits"
      ],
      "metadata": {
        "id": "zYK6gs7NUyCL"
      },
      "execution_count": null,
      "outputs": []
    },
    {
      "cell_type": "code",
      "source": [
        "# Function to tokenize text\n",
        "def tokenize_text(text):\n",
        "    inputs = tokenizer(text, padding=True, truncation=True, return_tensors=\"pt\")\n",
        "    return inputs"
      ],
      "metadata": {
        "id": "Th7D5olkU1FQ"
      },
      "execution_count": null,
      "outputs": []
    },
    {
      "cell_type": "code",
      "source": [
        "# Prepare DataLoader\n",
        "def collate_fn(batch):\n",
        "    texts, labels = zip(*batch)\n",
        "    inputs = [tokenize_text(text) for text in texts]\n",
        "    max_length = max(len(input[\"input_ids\"][0]) for input in inputs)\n",
        "    padded_input_ids = []\n",
        "    attention_masks = []\n",
        "    for input in inputs:\n",
        "        input_ids = input[\"input_ids\"]\n",
        "        input_ids_padding = torch.zeros(1, max_length, dtype=torch.long)\n",
        "        input_ids_padding[:, :input_ids.shape[1]] = input_ids\n",
        "        padded_input_ids.append(input_ids_padding)\n",
        "        attention_mask = input[\"attention_mask\"]\n",
        "        attention_mask_padding = torch.zeros(1, max_length, dtype=torch.long)\n",
        "        attention_mask_padding[:, :attention_mask.shape[1]] = attention_mask\n",
        "        attention_masks.append(attention_mask_padding)\n",
        "    padded_input_ids = torch.cat(padded_input_ids, dim=0)\n",
        "    attention_masks = torch.cat(attention_masks, dim=0)\n",
        "    labels = torch.tensor(labels)\n",
        "    return padded_input_ids, attention_masks, labels"
      ],
      "metadata": {
        "id": "RGYhucDwU436"
      },
      "execution_count": null,
      "outputs": []
    },
    {
      "cell_type": "code",
      "source": [
        "train_loader = DataLoader(train_dataset, batch_size=8, shuffle=True, collate_fn=collate_fn)\n",
        "test_loader = DataLoader(test_dataset, batch_size=8, collate_fn=collate_fn)"
      ],
      "metadata": {
        "id": "Ngh60GGSU7gX"
      },
      "execution_count": null,
      "outputs": []
    },
    {
      "cell_type": "code",
      "source": [
        "# Define Training Function\n",
        "def train_model(model, train_loader, optimizer, criterion, num_epochs=5):\n",
        "    model.train()\n",
        "    for epoch in range(num_epochs):\n",
        "        running_loss = 0.0\n",
        "        correct_predictions = 0\n",
        "        total_predictions = 0\n",
        "        for input_ids, attention_masks, labels in tqdm(train_loader, desc=f\"Epoch {epoch+1}/{num_epochs}\"):\n",
        "            optimizer.zero_grad()\n",
        "            input_ids, attention_masks, labels = input_ids.to(device), attention_masks.to(device), labels.to(device)\n",
        "            outputs = model(input_ids, attention_masks)\n",
        "            _, predicted = torch.max(outputs, 1)\n",
        "            loss = criterion(outputs, labels)\n",
        "            loss.backward()\n",
        "            optimizer.step()\n",
        "            running_loss += loss.item()\n",
        "            total_predictions += labels.size(0)\n",
        "            correct_predictions += (predicted == labels).sum().item()\n",
        "\n",
        "        epoch_loss = running_loss / len(train_loader)\n",
        "        epoch_acc = correct_predictions / total_predictions\n",
        "        print(f\"Epoch {epoch+1}/{num_epochs}, Loss: {epoch_loss:.4f}, Acc: {epoch_acc:.4f}\")\n"
      ],
      "metadata": {
        "id": "WSARJGevU_Rd"
      },
      "execution_count": null,
      "outputs": []
    },
    {
      "cell_type": "code",
      "source": [
        "# Initialize Model, Optimizer, and Loss Function\n",
        "# Load Model\n",
        "model = BERTClassifier(bert_model, num_classes=2)\n",
        "\n",
        "# Load model onto CPU\n",
        "device = torch.device(\"cuda\")\n",
        "model.load_state_dict(torch.load('bert_model.pth', map_location=device))\n",
        "\n",
        "# Optionally, if you intend to use GPU for inference later, you can move the model back to GPU\n",
        "if torch.cuda.is_available():\n",
        "    model = model.to(torch.device(\"cuda\"))\n"
      ],
      "metadata": {
        "id": "G3EWpbiHVB0v"
      },
      "execution_count": null,
      "outputs": []
    },
    {
      "cell_type": "code",
      "source": [
        "def evaluate_model(model, test_loader):\n",
        "    model.eval()\n",
        "    correct_predictions = 0\n",
        "    total_predictions = 0\n",
        "    predicted_labels = []\n",
        "    true_labels = []\n",
        "    with torch.no_grad():\n",
        "        for input_ids, attention_masks, labels in tqdm(test_loader, desc=\"Evaluation\"):\n",
        "            input_ids, attention_masks, labels = input_ids.to(device), attention_masks.to(device), labels.to(device)\n",
        "            outputs = model(input_ids, attention_masks)\n",
        "            _, predicted = torch.max(outputs, 1)\n",
        "            total_predictions += labels.size(0)\n",
        "            correct_predictions += (predicted == labels).sum().item()\n",
        "            predicted_labels.extend(predicted.cpu().numpy())\n",
        "            true_labels.extend(labels.cpu().numpy())\n",
        "\n",
        "    accuracy = correct_predictions / total_predictions\n",
        "    print(f\"Accuracy: {accuracy:.4f}\")\n",
        "\n",
        "    # Print classification report\n",
        "    print(classification_report(true_labels, predicted_labels))\n",
        "\n",
        "    return true_labels, predicted_labels, accuracy\n",
        "\n",
        "# Call the function\n",
        "true_labels, predicted_labels, accuracy = evaluate_model(model, test_loader)"
      ],
      "metadata": {
        "id": "rwoKqVj0VGrH"
      },
      "execution_count": null,
      "outputs": []
    },
    {
      "cell_type": "code",
      "source": [
        "from sklearn.metrics import precision_score, recall_score, f1_score\n",
        "from sklearn.metrics import confusion_matrix, classification_report\n",
        "import numpy as np\n",
        "import matplotlib.pyplot as plt\n",
        "import seaborn as sns\n",
        "\n",
        "# Confusion Matrix\n",
        "cm = confusion_matrix(true_labels, predicted_labels)\n",
        "print(\"Confusion Matrix:\")\n",
        "print(cm)\n",
        "\n",
        "# Classification Report\n",
        "print(\"Classification Report:\")\n",
        "print(classification_report(true_labels, predicted_labels))\n",
        "\n",
        "# Weighted F1 Score, Precision, Recall\n",
        "weighted_f1 = f1_score(true_labels, predicted_labels, average='weighted')\n",
        "weighted_precision = precision_score(true_labels, predicted_labels, average='weighted')\n",
        "weighted_recall = recall_score(true_labels, predicted_labels, average='weighted')\n",
        "print(f\"Weighted F1 Score: {weighted_f1:.4f}\")\n",
        "print(f\"Weighted Precision: {weighted_precision:.4f}\")\n",
        "print(f\"Weighted Recall: {weighted_recall:.4f}\")\n",
        "\n",
        "# Macro F1 Score, Precision, Recall\n",
        "macro_f1 = f1_score(true_labels, predicted_labels, average='macro')\n",
        "macro_precision = precision_score(true_labels, predicted_labels, average='macro')\n",
        "macro_recall = recall_score(true_labels, predicted_labels, average='macro')\n",
        "print(f\"Macro F1 Score: {macro_f1:.4f}\")\n",
        "print(f\"Macro Precision: {macro_precision:.4f}\")\n",
        "print(f\"Macro Recall: {macro_recall:.4f}\")\n",
        "\n",
        "# Normalize confusion matrix\n",
        "cm_norm = cm.astype('float') / cm.sum(axis=1)[:, np.newaxis]\n",
        "\n",
        "# Visualization\n",
        "plt.figure(figsize=(8, 6))\n",
        "ax = sns.heatmap(cm_norm, annot=True, cmap='inferno', fmt='.2f', annot_kws={\"size\": 16})\n",
        "plt.xlabel('Predicted label', fontsize=16)\n",
        "plt.ylabel('True label', fontsize=16)\n",
        "\n",
        "# Define tick marks and positions\n",
        "tick_marks = np.arange(2)\n",
        "tick_positions = np.arange(0.5, 2.5, 1)\n",
        "\n",
        "# Set x-axis tick labels at the center of the cell\n",
        "ax.set_xticks(tick_positions)\n",
        "ax.set_xticklabels(['Benign', 'Malware'], fontsize=16, ha='center')\n",
        "\n",
        "# Set y-axis tick labels at the center of the cell\n",
        "ax.set_yticks(tick_positions)\n",
        "ax.set_yticklabels(['Benign', 'Malware'], fontsize=16, va='center')\n",
        "\n",
        "plt.tight_layout()\n",
        "\n",
        "# Save figure as EPS\n",
        "plt.savefig('confusion_matrix.eps', format='eps')\n",
        "\n",
        "plt.show()\n",
        "\n",
        "\n"
      ],
      "metadata": {
        "id": "m_Nf-zg6WIdK"
      },
      "execution_count": null,
      "outputs": []
    },
    {
      "cell_type": "markdown",
      "source": [
        "# Explainability"
      ],
      "metadata": {
        "id": "d6nFXHNFqBJU"
      }
    },
    {
      "cell_type": "code",
      "source": [
        "pip install captum"
      ],
      "metadata": {
        "id": "qaZ5hKOltSPX"
      },
      "execution_count": null,
      "outputs": []
    },
    {
      "cell_type": "code",
      "source": [
        "import torch\n",
        "import torch.nn as nn\n",
        "from transformers import BertModel, BertTokenizer\n",
        "\n",
        "# Define the BERTClassifier class\n",
        "class BERTClassifier(nn.Module):\n",
        "    def __init__(self, bert_model, num_classes):\n",
        "        super(BERTClassifier, self).__init__()\n",
        "        self.bert = bert_model\n",
        "        self.fc = nn.Linear(self.bert.config.hidden_size, num_classes)\n",
        "\n",
        "    def forward(self, input_ids, attention_mask):\n",
        "        outputs = self.bert(input_ids=input_ids, attention_mask=attention_mask)\n",
        "        pooled_output = outputs.pooler_output\n",
        "        logits = self.fc(pooled_output)\n",
        "        return logits\n",
        "\n",
        "# Load the tokenizer\n",
        "tokenizer = BertTokenizer.from_pretrained('bert-base-uncased')\n",
        "\n",
        "# Initialize the BERT model\n",
        "bert_model = BertModel.from_pretrained('bert-base-uncased')\n",
        "\n",
        "# Initialize your classifier\n",
        "model = BERTClassifier(bert_model, num_classes=2)\n",
        "\n",
        "# Load the model state dictionary\n",
        "device = torch.device('cuda' if torch.cuda.is_available() else 'cpu')\n",
        "model.load_state_dict(torch.load('bert_model.pth', map_location=device))\n",
        "\n",
        "# Move the model to the appropriate device\n",
        "model = model.to(device)\n"
      ],
      "metadata": {
        "id": "GA4zveZbUik5"
      },
      "execution_count": null,
      "outputs": []
    },
    {
      "cell_type": "code",
      "source": [
        "import torch\n",
        "from torch.utils.data import DataLoader, Dataset\n",
        "from transformers import BertTokenizer\n",
        "\n",
        "# Initialize the BERT tokenizer\n",
        "tokenizer = BertTokenizer.from_pretrained('bert-base-uncased')\n",
        "\n",
        "# Define your custom dataset class\n",
        "class MyDataset(Dataset):\n",
        "    def __init__(self, texts, labels, max_length, tokenizer):\n",
        "        self.texts = texts\n",
        "        self.labels = labels\n",
        "        self.max_length = max_length\n",
        "        self.tokenizer = tokenizer\n",
        "\n",
        "    def __len__(self):\n",
        "        return len(self.texts)\n",
        "\n",
        "    def __getitem__(self, idx):\n",
        "        text = self.texts[idx]\n",
        "        label = self.labels[idx]\n",
        "        encoding = self.tokenizer.encode_plus(\n",
        "            text,\n",
        "            add_special_tokens=True,\n",
        "            max_length=self.max_length,\n",
        "            return_token_type_ids=False,\n",
        "            padding='max_length',\n",
        "            return_attention_mask=True,\n",
        "            return_tensors='pt',\n",
        "            truncation=True\n",
        "        )\n",
        "        input_ids = encoding['input_ids'].flatten()\n",
        "        attention_mask = encoding['attention_mask'].flatten()\n",
        "        return input_ids, attention_mask, label\n",
        "\n",
        "# Load Data\n",
        "df = pd.read_csv('ultraclean_final_systemcalls_label.csv').dropna()\n",
        "df = df.sample(frac=1).reset_index(drop=True)\n",
        "\n",
        "# Split Data\n",
        "train_df, test_df = train_test_split(df, random_state=41, train_size=0.8, stratify=df['label'])\n",
        "\n",
        "# Preprocess Labels\n",
        "label_encoder = LabelEncoder()\n",
        "train_df['label'] = label_encoder.fit_transform(train_df['label'])\n",
        "test_df['label'] = label_encoder.transform(test_df['label'])\n",
        "\n",
        "# Example data\n",
        "texts = test_df['systemcalls'].tolist()\n",
        "labels = test_df['label'].tolist()\n",
        "max_length = 128\n",
        "\n",
        "# Initialize the dataset\n",
        "test_dataset = MyDataset(texts, labels, max_length, tokenizer)\n",
        "\n",
        "\n"
      ],
      "metadata": {
        "id": "cIAd_BSbtUvN"
      },
      "execution_count": null,
      "outputs": []
    },
    {
      "cell_type": "code",
      "source": [
        "# Define collate function\n",
        "def collate_fn(batch):\n",
        "    input_ids = torch.stack([item[0] for item in batch])\n",
        "    attention_masks = torch.stack([item[1] for item in batch])\n",
        "    labels = torch.tensor([item[2] for item in batch])\n",
        "    return input_ids, attention_masks, labels\n",
        "\n",
        "# Initialize the DataLoader\n",
        "test_loader = DataLoader(test_dataset, batch_size=4, shuffle=False, collate_fn=collate_fn)\n"
      ],
      "metadata": {
        "id": "dQL4HkgaYLAq"
      },
      "execution_count": null,
      "outputs": []
    },
    {
      "cell_type": "code",
      "source": [
        "import torch\n",
        "torch.cuda.empty_cache()"
      ],
      "metadata": {
        "id": "sXLf27iJ_DTu"
      },
      "execution_count": null,
      "outputs": []
    },
    {
      "cell_type": "code",
      "source": [
        "pip install transformers-interpret"
      ],
      "metadata": {
        "id": "8mkIHFYTqEVp"
      },
      "execution_count": null,
      "outputs": []
    },
    {
      "cell_type": "code",
      "source": [
        "from transformers import BertForSequenceClassification\n",
        "\n",
        "# Initialize a BertForSequenceClassification model\n",
        "model_for_classification = BertForSequenceClassification.from_pretrained('bert-base-uncased')\n",
        "\n",
        "# Load your trained weights into the classification model\n",
        "state_dict = torch.load('bert_model.pth', map_location=torch.device('cpu'))\n",
        "\n",
        "# Check if the state_dict has keys related to 'classifier' (the default name for the classification head)\n",
        "if all(k.startswith('classifier') for k in state_dict.keys()):\n",
        "    # Load the modified state_dict directly\n",
        "    model_for_classification.load_state_dict(state_dict)\n",
        "else:\n",
        "    # Remove the 'fc' layer keys from the state_dict if present\n",
        "    state_dict = {k: v for k, v in state_dict.items() if 'fc' not in k}\n",
        "    # Load the modified state_dict\n",
        "    model_for_classification.load_state_dict(state_dict, strict=False)\n"
      ],
      "metadata": {
        "id": "k4zLg5FJw9BL"
      },
      "execution_count": null,
      "outputs": []
    },
    {
      "cell_type": "code",
      "source": [
        "from torch.nn.functional import softmax\n",
        "from sklearn.metrics import classification_report\n",
        "from tqdm import tqdm\n",
        "\n",
        "def evaluate_model(model, test_loader, device):\n",
        "    model.eval()\n",
        "    correct_predictions = 0\n",
        "    total_predictions = 0\n",
        "    predicted_labels = []\n",
        "    true_labels = []\n",
        "\n",
        "    with torch.no_grad():\n",
        "        for input_ids, attention_masks, labels in tqdm(test_loader, desc=\"Evaluation\"):\n",
        "            input_ids, attention_masks, labels = input_ids.to(device), attention_masks.to(device), labels.to(device)\n",
        "            outputs = model(input_ids=input_ids, attention_mask=attention_masks).logits\n",
        "            probabilities = softmax(outputs, dim=1)\n",
        "            _, predicted = torch.max(probabilities, 1)\n",
        "            total_predictions += labels.size(0)\n",
        "            correct_predictions += (predicted == labels).sum().item()\n",
        "            predicted_labels.extend(predicted.cpu().tolist())\n",
        "            true_labels.extend(labels.cpu().tolist())\n",
        "\n",
        "    accuracy = correct_predictions / total_predictions\n",
        "    print(f\"Accuracy: {accuracy:.4f}\")\n",
        "\n",
        "    # Print classification report\n",
        "    print(classification_report(true_labels, predicted_labels, digits=4))\n",
        "\n",
        "    return true_labels, predicted_labels, accuracy\n",
        "\n",
        "# Determine device\n",
        "device = torch.device(\"cuda\" if torch.cuda.is_available() else \"cpu\")\n",
        "model_for_classification.to(device)\n",
        "\n",
        "# Call the function\n",
        "true_labels, predicted_labels, accuracy = evaluate_model(model_for_classification, test_loader, device)\n"
      ],
      "metadata": {
        "id": "zNf3Qd3PYxa6"
      },
      "execution_count": null,
      "outputs": []
    },
    {
      "cell_type": "code",
      "source": [
        "from transformers import AutoTokenizer, AutoModelForSequenceClassification\n",
        "from transformers_interpret import SequenceClassificationExplainer\n",
        "from transformers import BertForSequenceClassification"
      ],
      "metadata": {
        "id": "u3LUbyNyqiOB"
      },
      "execution_count": null,
      "outputs": []
    },
    {
      "cell_type": "code",
      "source": [
        "from transformers import AutoTokenizer, AutoModelForSequenceClassification\n",
        "from transformers_interpret import SequenceClassificationExplainer\n",
        "\n",
        "# Load tokenizer\n",
        "tokenizer = AutoTokenizer.from_pretrained(\"bert-base-uncased\")\n",
        "\n",
        "# Load model\n",
        "model = AutoModelForSequenceClassification.from_pretrained(\"bert-base-uncased\")\n",
        "\n",
        "# Create explainer\n",
        "cls_explainer = SequenceClassificationExplainer(model, tokenizer)\n"
      ],
      "metadata": {
        "id": "iaRLnaMWqmX7"
      },
      "execution_count": null,
      "outputs": []
    },
    {
      "cell_type": "code",
      "source": [
        "# Extract five random sentences based on a pre-selection\n",
        "random_sentences = df[df.label.isin([0, 1])].sample(n=5, random_state=1234)['systemcalls'].reset_index(drop=True)\n",
        "\n",
        "# Print each sentence in its full length\n",
        "for sentence in random_sentences:\n",
        "    print(sentence)\n"
      ],
      "metadata": {
        "id": "gvR4UgoFqt80"
      },
      "execution_count": null,
      "outputs": []
    },
    {
      "cell_type": "code",
      "source": [
        "!pip install bertviz\n"
      ],
      "metadata": {
        "id": "DhFeH7XXu6tC"
      },
      "execution_count": null,
      "outputs": []
    },
    {
      "cell_type": "code",
      "source": [
        "from transformers import AutoTokenizer, AutoModel\n",
        "from bertviz import model_view\n",
        "import torch\n",
        "\n",
        "# Cell 3: Load test data\n",
        "df = pd.read_csv('ultraclean_final_systemcalls_label.csv').dropna()\n",
        "test_df = df.sample(frac=0.2, random_state=42)  # Adjust fraction as needed\n",
        "\n",
        "# Cell 4: Load tokenizer and model\n",
        "tokenizer = AutoTokenizer.from_pretrained('bert-base-uncased')\n",
        "model = AutoModel.from_pretrained('bert-base-uncased', output_attentions=True)\n",
        "device = torch.device(\"cuda\" if torch.cuda.is_available() else \"cpu\")\n",
        "model = model.to(device)\n",
        "\n",
        "# Cell 5: Select a random sample from the test data\n",
        "random_sample = test_df.sample(1)\n",
        "\n",
        "# Cell 6: Tokenize the text and ensure it fits within the maximum sequence length\n",
        "input_text = random_sample['systemcalls'].iloc[0]\n",
        "inputs = tokenizer.encode_plus(input_text, return_tensors='pt', add_special_tokens=True, max_length=512, truncation=True)\n",
        "input_ids = inputs['input_ids'].to(device)\n",
        "attention_mask = inputs['attention_mask'].to(device)\n",
        "\n",
        "# Cell 7: Get the model outputs\n",
        "with torch.no_grad():\n",
        "    outputs = model(input_ids=input_ids, attention_mask=attention_mask)\n",
        "    attention = outputs[-1]  # Retrieve attention from model outputs\n",
        "\n",
        "# Cell 8: Convert input ids to tokens\n",
        "tokens = tokenizer.convert_ids_to_tokens(input_ids[0])\n",
        "\n",
        "# Cell 9: Visualize attention using BertViz\n",
        "model_view(attention, tokens)\n"
      ],
      "metadata": {
        "id": "xzkUUd1mu7pl"
      },
      "execution_count": null,
      "outputs": []
    },
    {
      "cell_type": "code",
      "source": [],
      "metadata": {
        "id": "yi3oSlqLvJqD"
      },
      "execution_count": null,
      "outputs": []
    },
    {
      "cell_type": "code",
      "source": [],
      "metadata": {
        "id": "ISmZUaRlvJsi"
      },
      "execution_count": null,
      "outputs": []
    },
    {
      "cell_type": "code",
      "source": [],
      "metadata": {
        "id": "LsbDmXrSvJuz"
      },
      "execution_count": null,
      "outputs": []
    },
    {
      "cell_type": "code",
      "source": [],
      "metadata": {
        "id": "gR97QpbtvJwz"
      },
      "execution_count": null,
      "outputs": []
    },
    {
      "cell_type": "code",
      "source": [],
      "metadata": {
        "id": "LrzbzcBBvJzE"
      },
      "execution_count": null,
      "outputs": []
    },
    {
      "cell_type": "code",
      "source": [],
      "metadata": {
        "id": "yY7esw2EvJ1T"
      },
      "execution_count": null,
      "outputs": []
    }
  ]
}