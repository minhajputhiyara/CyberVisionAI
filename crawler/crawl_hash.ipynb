{
 "cells": [
  {
   "cell_type": "code",
   "execution_count": 1,
   "metadata": {},
   "outputs": [
    {
     "name": "stdout",
     "output_type": "stream",
     "text": [
      "Defaulting to user installation because normal site-packages is not writeable\n",
      "Requirement already satisfied: selenium in /home/minhaj/.local/lib/python3.10/site-packages (4.23.1)\n",
      "Requirement already satisfied: typing_extensions~=4.9 in /home/minhaj/.local/lib/python3.10/site-packages (from selenium) (4.12.2)\n",
      "Requirement already satisfied: trio-websocket~=0.9 in /home/minhaj/.local/lib/python3.10/site-packages (from selenium) (0.11.1)\n",
      "Requirement already satisfied: certifi>=2021.10.8 in /home/minhaj/.local/lib/python3.10/site-packages (from selenium) (2024.7.4)\n",
      "Requirement already satisfied: websocket-client~=1.8 in /home/minhaj/.local/lib/python3.10/site-packages (from selenium) (1.8.0)\n",
      "Requirement already satisfied: urllib3[socks]<3,>=1.26 in /home/minhaj/.local/lib/python3.10/site-packages (from selenium) (2.2.2)\n",
      "Requirement already satisfied: trio~=0.17 in /home/minhaj/.local/lib/python3.10/site-packages (from selenium) (0.26.0)\n",
      "Requirement already satisfied: exceptiongroup in /home/minhaj/.local/lib/python3.10/site-packages (from trio~=0.17->selenium) (1.2.2)\n",
      "Requirement already satisfied: idna in /usr/lib/python3/dist-packages (from trio~=0.17->selenium) (3.3)\n",
      "Requirement already satisfied: outcome in /home/minhaj/.local/lib/python3.10/site-packages (from trio~=0.17->selenium) (1.3.0.post0)\n",
      "Requirement already satisfied: attrs>=23.2.0 in /home/minhaj/.local/lib/python3.10/site-packages (from trio~=0.17->selenium) (23.2.0)\n",
      "Requirement already satisfied: sortedcontainers in /home/minhaj/.local/lib/python3.10/site-packages (from trio~=0.17->selenium) (2.4.0)\n",
      "Requirement already satisfied: sniffio>=1.3.0 in /home/minhaj/.local/lib/python3.10/site-packages (from trio~=0.17->selenium) (1.3.1)\n",
      "Requirement already satisfied: wsproto>=0.14 in /home/minhaj/.local/lib/python3.10/site-packages (from trio-websocket~=0.9->selenium) (1.2.0)\n",
      "Requirement already satisfied: pysocks!=1.5.7,<2.0,>=1.5.6 in /home/minhaj/.local/lib/python3.10/site-packages (from urllib3[socks]<3,>=1.26->selenium) (1.7.1)\n",
      "Requirement already satisfied: h11<1,>=0.9.0 in /home/minhaj/.local/lib/python3.10/site-packages (from wsproto>=0.14->trio-websocket~=0.9->selenium) (0.14.0)\n",
      "Note: you may need to restart the kernel to use updated packages.\n"
     ]
    }
   ],
   "source": [
    "pip install selenium"
   ]
  },
  {
   "cell_type": "code",
   "execution_count": 2,
   "metadata": {},
   "outputs": [
    {
     "name": "stdout",
     "output_type": "stream",
     "text": [
      "Defaulting to user installation because normal site-packages is not writeable\n",
      "Requirement already satisfied: webdriver-manager in /home/minhaj/.local/lib/python3.10/site-packages (4.0.2)\n",
      "Requirement already satisfied: packaging in /home/minhaj/.local/lib/python3.10/site-packages (from webdriver-manager) (24.1)\n",
      "Requirement already satisfied: python-dotenv in /home/minhaj/.local/lib/python3.10/site-packages (from webdriver-manager) (1.0.1)\n",
      "Requirement already satisfied: requests in /home/minhaj/.local/lib/python3.10/site-packages (from webdriver-manager) (2.32.3)\n",
      "Requirement already satisfied: idna<4,>=2.5 in /usr/lib/python3/dist-packages (from requests->webdriver-manager) (3.3)\n",
      "Requirement already satisfied: urllib3<3,>=1.21.1 in /home/minhaj/.local/lib/python3.10/site-packages (from requests->webdriver-manager) (2.2.2)\n",
      "Requirement already satisfied: certifi>=2017.4.17 in /home/minhaj/.local/lib/python3.10/site-packages (from requests->webdriver-manager) (2024.7.4)\n",
      "Requirement already satisfied: charset-normalizer<4,>=2 in /home/minhaj/.local/lib/python3.10/site-packages (from requests->webdriver-manager) (3.3.2)\n",
      "Note: you may need to restart the kernel to use updated packages.\n"
     ]
    }
   ],
   "source": [
    "pip install webdriver-manager"
   ]
  },
  {
   "cell_type": "code",
   "execution_count": 3,
   "metadata": {},
   "outputs": [
    {
     "name": "stdout",
     "output_type": "stream",
     "text": [
      "Defaulting to user installation because normal site-packages is not writeable\n",
      "Requirement already satisfied: pyyaml in /usr/lib/python3/dist-packages (5.4.1)\n",
      "Requirement already satisfied: ua-parser in /home/minhaj/.local/lib/python3.10/site-packages (0.18.0)\n",
      "Requirement already satisfied: user-agents in /home/minhaj/.local/lib/python3.10/site-packages (2.2.0)\n",
      "Requirement already satisfied: fake-useragent in /home/minhaj/.local/lib/python3.10/site-packages (1.5.1)\n",
      "Note: you may need to restart the kernel to use updated packages.\n"
     ]
    }
   ],
   "source": [
    "pip install pyyaml ua-parser user-agents fake-useragent"
   ]
  },
  {
   "cell_type": "code",
   "execution_count": 4,
   "metadata": {},
   "outputs": [
    {
     "name": "stdout",
     "output_type": "stream",
     "text": [
      "Defaulting to user installation because normal site-packages is not writeable\n",
      "Requirement already satisfied: pyshadow in /home/minhaj/.local/lib/python3.10/site-packages (0.0.5)\n",
      "Requirement already satisfied: webdriver-manager>=2.5.3 in /home/minhaj/.local/lib/python3.10/site-packages (from pyshadow) (4.0.2)\n",
      "Requirement already satisfied: multipledispatch>=0.6.0 in /home/minhaj/.local/lib/python3.10/site-packages (from pyshadow) (1.0.0)\n",
      "Requirement already satisfied: selenium>=3.141.0 in /home/minhaj/.local/lib/python3.10/site-packages (from pyshadow) (4.23.1)\n",
      "Requirement already satisfied: trio-websocket~=0.9 in /home/minhaj/.local/lib/python3.10/site-packages (from selenium>=3.141.0->pyshadow) (0.11.1)\n",
      "Requirement already satisfied: certifi>=2021.10.8 in /home/minhaj/.local/lib/python3.10/site-packages (from selenium>=3.141.0->pyshadow) (2024.7.4)\n",
      "Requirement already satisfied: trio~=0.17 in /home/minhaj/.local/lib/python3.10/site-packages (from selenium>=3.141.0->pyshadow) (0.26.0)\n",
      "Requirement already satisfied: urllib3[socks]<3,>=1.26 in /home/minhaj/.local/lib/python3.10/site-packages (from selenium>=3.141.0->pyshadow) (2.2.2)\n",
      "Requirement already satisfied: websocket-client~=1.8 in /home/minhaj/.local/lib/python3.10/site-packages (from selenium>=3.141.0->pyshadow) (1.8.0)\n",
      "Requirement already satisfied: typing_extensions~=4.9 in /home/minhaj/.local/lib/python3.10/site-packages (from selenium>=3.141.0->pyshadow) (4.12.2)\n",
      "Requirement already satisfied: python-dotenv in /home/minhaj/.local/lib/python3.10/site-packages (from webdriver-manager>=2.5.3->pyshadow) (1.0.1)\n",
      "Requirement already satisfied: packaging in /home/minhaj/.local/lib/python3.10/site-packages (from webdriver-manager>=2.5.3->pyshadow) (24.1)\n",
      "Requirement already satisfied: requests in /home/minhaj/.local/lib/python3.10/site-packages (from webdriver-manager>=2.5.3->pyshadow) (2.32.3)\n",
      "Requirement already satisfied: exceptiongroup in /home/minhaj/.local/lib/python3.10/site-packages (from trio~=0.17->selenium>=3.141.0->pyshadow) (1.2.2)\n",
      "Requirement already satisfied: attrs>=23.2.0 in /home/minhaj/.local/lib/python3.10/site-packages (from trio~=0.17->selenium>=3.141.0->pyshadow) (23.2.0)\n",
      "Requirement already satisfied: sniffio>=1.3.0 in /home/minhaj/.local/lib/python3.10/site-packages (from trio~=0.17->selenium>=3.141.0->pyshadow) (1.3.1)\n",
      "Requirement already satisfied: sortedcontainers in /home/minhaj/.local/lib/python3.10/site-packages (from trio~=0.17->selenium>=3.141.0->pyshadow) (2.4.0)\n",
      "Requirement already satisfied: outcome in /home/minhaj/.local/lib/python3.10/site-packages (from trio~=0.17->selenium>=3.141.0->pyshadow) (1.3.0.post0)\n",
      "Requirement already satisfied: idna in /usr/lib/python3/dist-packages (from trio~=0.17->selenium>=3.141.0->pyshadow) (3.3)\n",
      "Requirement already satisfied: wsproto>=0.14 in /home/minhaj/.local/lib/python3.10/site-packages (from trio-websocket~=0.9->selenium>=3.141.0->pyshadow) (1.2.0)\n",
      "Requirement already satisfied: pysocks!=1.5.7,<2.0,>=1.5.6 in /home/minhaj/.local/lib/python3.10/site-packages (from urllib3[socks]<3,>=1.26->selenium>=3.141.0->pyshadow) (1.7.1)\n",
      "Requirement already satisfied: charset-normalizer<4,>=2 in /home/minhaj/.local/lib/python3.10/site-packages (from requests->webdriver-manager>=2.5.3->pyshadow) (3.3.2)\n",
      "Requirement already satisfied: h11<1,>=0.9.0 in /home/minhaj/.local/lib/python3.10/site-packages (from wsproto>=0.14->trio-websocket~=0.9->selenium>=3.141.0->pyshadow) (0.14.0)\n",
      "Note: you may need to restart the kernel to use updated packages.\n"
     ]
    }
   ],
   "source": [
    "pip install pyshadow"
   ]
  },
  {
   "cell_type": "code",
   "execution_count": 5,
   "metadata": {},
   "outputs": [],
   "source": [
    "from selenium import webdriver\n",
    "from selenium.webdriver.chrome.service import Service as ChromeService\n",
    "from selenium.webdriver.chrome.options import Options\n",
    "from webdriver_manager.chrome import ChromeDriverManager\n",
    "from fake_useragent import UserAgent\n",
    "from bs4 import BeautifulSoup\n",
    "from pyshadow.main import Shadow\n",
    "import json\n",
    "import time"
   ]
  },
  {
   "cell_type": "code",
   "execution_count": 6,
   "metadata": {},
   "outputs": [],
   "source": [
    "json_file = 'sms.json'\n",
    "\n",
    "def update_json_file(file_path, new_data):\n",
    "    with open(file_path, 'r') as file:\n",
    "        existing_data = json.load(file)\n",
    "    existing_data.update(new_data)\n",
    "    with open(file_path, 'w') as file:\n",
    "        json.dump(existing_data, file, indent=4)\n"
   ]
  },
  {
   "cell_type": "code",
   "execution_count": 7,
   "metadata": {},
   "outputs": [],
   "source": [
    "global driver"
   ]
  },
  {
   "cell_type": "code",
   "execution_count": 8,
   "metadata": {},
   "outputs": [],
   "source": [
    "captcha = False"
   ]
  },
  {
   "cell_type": "code",
   "execution_count": 9,
   "metadata": {},
   "outputs": [],
   "source": [
    "def crawl(hash):\n",
    "    global captcha\n",
    "    url = f\"https://www.virustotal.com/gui/file/{hash}/behavior\"\n",
    "    \n",
    "    options = Options()\n",
    "    ua = UserAgent()\n",
    "    user_agent = ua.random\n",
    "    print(user_agent)\n",
    "\n",
    "    options.add_argument(f'--user-agent={user_agent}')\n",
    "    # options.add_argument(\"--headless\")\n",
    "\n",
    "    # Specify window size (e.g., 800x600)\n",
    "    options.add_argument('--window-size=600,400')\n",
    "\n",
    "    driver = webdriver.Chrome(options=options, service=ChromeService(ChromeDriverManager(driver_version='127.0.6533.88 ').install()))\n",
    "    driver.get(url)\n",
    "    \n",
    "    \n",
    "    # ################################\n",
    "\n",
    "    # wait for the page to load\n",
    "    time.sleep(20)\n",
    "    \n",
    "    # check if the page is a captcha page\n",
    "    if \"captcha\" in driver.title.lower():\n",
    "        captcha = True\n",
    "        print (\"Captcha found\")\n",
    "        return \"Captcha found\"\n",
    "    \n",
    "    shadow = Shadow(driver)\n",
    "    \n",
    "    try:\n",
    "        vt_ui_tree = shadow.find_element(\"vt-ui-mitre-tree#mitre-tree>vt-ui-expandable>span[slot='content']>div.position-relative\")\n",
    "    except:\n",
    "        return \"no data found\"\n",
    "    tree = BeautifulSoup(vt_ui_tree.get_attribute(\"outerHTML\"), \"html.parser\")\n",
    "    \n",
    "    # MAIN TREE\n",
    "    elements = tree.select(\"vt-ui-expandable-detail\")\n",
    "    time.sleep(5)\n",
    "    driver.close()\n",
    "    \n",
    "    output = {}\n",
    "    doc_name = hash\n",
    "    doc_data = {\n",
    "        \"mitre\": {}\n",
    "    }\n",
    "    \n",
    "    \n",
    "    for element in elements:\n",
    "        # MITRE NAME\n",
    "        label_content = element.select_one(\"span[slot='label-content']\")\n",
    "        a_tag = label_content.select_one(\"h5 > div > a\")\n",
    "        if a_tag:\n",
    "            inner_text = a_tag.get_text(strip=True)\n",
    "            doc_data[\"mitre\"][inner_text] = {}\n",
    "\n",
    "        # MITRE CODE\n",
    "        span_tag = label_content.select_one(\"h5 > div > span\")\n",
    "        if span_tag:\n",
    "            direct_text = ''.join(span_tag.find_all(text=True, recursive=False)).strip()\n",
    "            parts = direct_text.split('$')\n",
    "            ta_code = parts[-1]\n",
    "            doc_data[\"mitre\"][inner_text][\"tcode\"] = ta_code\n",
    "\n",
    "        # MITRE INNER DATA\n",
    "        table = element.select_one(\"span[slot='content'] > table\")\n",
    "        if table:\n",
    "            for row in table.find_all(\"tr\"):\n",
    "                # PROTOCOL\n",
    "                row_data = {}\n",
    "                a_tag = row.select_one(\"td > span > div > a\")\n",
    "                if a_tag:\n",
    "                    row_data[\"tcode\"] = a_tag.get_text(strip=True)\n",
    "                \n",
    "                # PROTOCOL CODE\n",
    "                span_tag = row.select_one(\"td > span > div > span\")\n",
    "                if span_tag:\n",
    "                    direct_text = ''.join(span_tag.find_all(text=True, recursive=False)).strip()\n",
    "                    parts = direct_text.split('$')\n",
    "                    ta_code = parts[-1]\n",
    "                    row_data[\"tcode\"] = ta_code\n",
    "                \n",
    "                # PROTOCOL METHOD\n",
    "                p_tag = row.select_one(\"td > span > div > p\")\n",
    "                if p_tag:\n",
    "                    row_data[\"method\"] = p_tag.get_text(strip=True)\n",
    "                if row_data:\n",
    "                    doc_data[\"mitre\"][inner_text].setdefault(\"subcategories\", []).append(row_data)\n",
    "\n",
    "    return doc_data\n"
   ]
  },
  {
   "cell_type": "code",
   "execution_count": 10,
   "metadata": {
    "scrolled": true
   },
   "outputs": [
    {
     "name": "stdout",
     "output_type": "stream",
     "text": [
      "Processing BB9358D55894D26E7D9E44FBAB06A79B2588655C65619C6E0BF2D37B98454486\n",
      "Mozilla/5.0 (iPhone; CPU iPhone OS 17_0_3 like Mac OS X) AppleWebKit/605.1.15 (KHTML, like Gecko) Version/17.0 Mobile/15E148 Safari/604.1 OPT/4.3.1\n",
      "no data found\n",
      "Processing BBA0A147DB065D1FAA26AEC5081D5A9EC46293504D0B539C268318348741B93C\n",
      "Mozilla/5.0 (iPhone; CPU iPhone OS 17_0_2 like Mac OS X) AppleWebKit/605.1.15 (KHTML, like Gecko) Version/17.0 Mobile/15E148 Safari/604.1\n",
      "no data found\n",
      "Processing BBBA28DE9F56B87A354B562C165856A47808C3ED5FF8CEDD2866F9527A3D6C87\n",
      "Mozilla/5.0 (iPhone; CPU iPhone OS 17_0_3 like Mac OS X) AppleWebKit/605.1.15 (KHTML, like Gecko) Version/17.0 Mobile/15E148 Safari/604.1\n",
      "no data found\n",
      "Processing BBBE4DCBCCCAB2AB636B8F52AA5D4E8B2260961232B8C3F8EC419C2B55A9C1AC\n",
      "Mozilla/5.0 (Windows NT 10.0; Win64; x64) AppleWebKit/537.36 (KHTML, like Gecko) Chrome/122.0.0.0 Safari/537.36 Agency/98.8.8175.80\n",
      "no data found\n",
      "Processing BBC8B20AC8DA68BE6E7B0A3B7359BE9714D06B5E9B57A5B3DE5B7B346295B13D\n",
      "Mozilla/5.0 (Windows NT 10.0; Win64; x64) AppleWebKit/537.36 (KHTML, like Gecko) Chrome/121.0.0.0 Safari/537.36 Edg/121.0.0.0\n",
      "no data found\n",
      "Processing BBE2134B409DE706E4098B5895998F350A4F98C2BCECE91A376D2EFF4F80AA27\n",
      "Mozilla/5.0 (iPhone; CPU iPhone OS 17_2 like Mac OS X) AppleWebKit/605.1.15 (KHTML, like Gecko) EdgiOS/120.0.2210.116 Version/17.0 Mobile/15E148 Safari/604.1\n",
      "no data found\n",
      "Processing BBE9E4EE2F1712DAA66BAAF3F1F81C604067D42A3CB9721E7DEFFC3EB7C4948C\n",
      "Mozilla/5.0 (Windows NT 10.0; Win64; x64) AppleWebKit/537.36 (KHTML, like Gecko) Chrome/122.0.0.0 Safari/537.36\n",
      "no data found\n",
      "Processing BC19562618F7DE9059D78E4E459D1B688A0B1BD9D9284CC8EE56AD963E7F5DEC\n",
      "Mozilla/5.0 (iPhone; CPU iPhone OS 17_0_3 like Mac OS X) AppleWebKit/605.1.15 (KHTML, like Gecko) Version/17.0 Mobile/15E148 Safari/604.1 OPT/4.3.1\n",
      "no data found\n",
      "Processing BC1CDEA009EAAD6695C8611D95945CD0950401B263C37F788D183C8DA114D4D6\n",
      "Mozilla/5.0 (iPhone; CPU iPhone OS 17_2 like Mac OS X) AppleWebKit/605.1.15 (KHTML, like Gecko) EdgiOS/120.0.2210.116 Version/17.0 Mobile/15E148 Safari/604.1\n",
      "no data found\n",
      "Processing BC3922117574669C5419711CCECC18A2A72F3DF1996A0E612435BA5BD766653C\n",
      "Mozilla/5.0 (Linux; Android 10; K) AppleWebKit/537.36 (KHTML, like Gecko) Chrome/122.0.0.0 Mobile Safari/537.36\n",
      "no data found\n",
      "Processing BC43BD4D4B1405BEA8B5A0708F795F7DF6C398F5EBED6E9D43B351C6358FA04C\n",
      "Mozilla/5.0 (Windows NT 10.0; Win64; x64) AppleWebKit/537.36 (KHTML, like Gecko) Chrome/121.0.0.0 Safari/537.36 Edg/121.0.0.0\n",
      "no data found\n",
      "Processing BC7F3ECF391239DE66E4059CCC2384242EFABD299360122E79A09AADC2AB9766\n",
      "Mozilla/5.0 (iPhone; CPU iPhone OS 17_2 like Mac OS X) AppleWebKit/605.1.15 (KHTML, like Gecko) EdgiOS/120.0.2210.105 Version/17.0 Mobile/15E148 Safari/604.1\n",
      "no data found\n",
      "Processing BCCD49C72FC3BE6DC0EA31D4F5C53F095711E8CA4592C5443DF60AEF7F1E8B4D\n",
      "Mozilla/5.0 (iPhone; CPU iPhone OS 17_1 like Mac OS X) AppleWebKit/605.1.15 (KHTML, like Gecko) EdgiOS/118.0.2088.68 Version/17.0 Mobile/15E148 Safari/604.1\n",
      "no data found\n",
      "Processing BCD45C0938B7B71C9632F04E5E1BF559C01CAB1336CB7329BE46A6B2E3462C10\n",
      "Mozilla/5.0 (iPhone; CPU iPhone OS 17_3 like Mac OS X) AppleWebKit/605.1.15 (KHTML, like Gecko) CriOS/122.0.6261.62 Mobile/15E148 Safari/604.1\n",
      "no data found\n",
      "Processing BCDE5537EBB271EBBA040B376CC4CD69D34082F215B877C5F3B9359EA263BB07\n",
      "Mozilla/5.0 (Macintosh; Intel Mac OS X 10_15_7) AppleWebKit/537.36 (KHTML, like Gecko) Chrome/122.0.0.0 Safari/537.36\n",
      "no data found\n",
      "Processing BD05E83B1B3C2BE134DB90678C636033AB243284832BA71B63882AD860FAF1C1\n",
      "Mozilla/5.0 (Linux; Android 10; K) AppleWebKit/537.36 (KHTML, like Gecko) Chrome/122.0.0.0 Mobile Safari/537.36\n",
      "Captcha found\n",
      "Captcha found\n",
      "Captcha detected, stopping.\n"
     ]
    }
   ],
   "source": [
    "#  read txt file and loop through lines\n",
    "with open('sms.txt') as f:\n",
    "    hashes = f.read().splitlines()\n",
    "\n",
    "for hash in hashes:\n",
    "    print(f\"Processing {hash}\")\n",
    "    ow = crawl(hash)\n",
    "    print(ow)\n",
    "    if captcha == True:\n",
    "        print(\"Captcha detected, stopping.\")\n",
    "        break\n",
    "    output = { str(hash) : ow }\n",
    "    update_json_file(json_file, output)\n",
    "    #  remove line with hash value after processing\n",
    "    with open('sms.txt', 'r') as f:\n",
    "        lines = f.readlines()\n",
    "    with open('sms.txt', 'w') as f:\n",
    "        for line in lines:\n",
    "            if line.strip(\"\\n\") != hash:\n",
    "                f.write(line)\n",
    "    \n"
   ]
  }
 ],
 "metadata": {
  "kernelspec": {
   "display_name": "Python 3 (ipykernel)",
   "language": "python",
   "name": "python3"
  },
  "language_info": {
   "codemirror_mode": {
    "name": "ipython",
    "version": 3
   },
   "file_extension": ".py",
   "mimetype": "text/x-python",
   "name": "python",
   "nbconvert_exporter": "python",
   "pygments_lexer": "ipython3",
   "version": "3.10.12"
  }
 },
 "nbformat": 4,
 "nbformat_minor": 4
}
