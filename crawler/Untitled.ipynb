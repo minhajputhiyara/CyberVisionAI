{
 "cells": [
  {
   "cell_type": "code",
   "execution_count": 7,
   "id": "8cb2f35b",
   "metadata": {},
   "outputs": [],
   "source": [
    "from plyer import notification\n",
    "from playsound import playsound\n",
    "import time\n",
    "\n",
    "# Display notification\n",
    "notification.notify(\n",
    "    title='Script Stopped',\n",
    "    message='Captcha detected, stopping.',\n",
    "    timeout=10  # Duration in seconds\n",
    ")\n",
    "\n",
    "# Play sound after a short delay to ensure notification appears\n",
    "time.sleep(1)\n",
    "playsound('warning.mp3')  # Replace with the path to your sound file\n"
   ]
  },
  {
   "cell_type": "code",
   "execution_count": 4,
   "id": "5f254cb8",
   "metadata": {},
   "outputs": [
    {
     "name": "stdout",
     "output_type": "stream",
     "text": [
      "Defaulting to user installation because normal site-packages is not writeable\n",
      "Requirement already satisfied: playsound in /home/minhaj/.local/lib/python3.10/site-packages (1.3.0)\n",
      "Note: you may need to restart the kernel to use updated packages.\n"
     ]
    }
   ],
   "source": [
    "pip install playsound"
   ]
  }
 ],
 "metadata": {
  "kernelspec": {
   "display_name": "Python 3 (ipykernel)",
   "language": "python",
   "name": "python3"
  },
  "language_info": {
   "codemirror_mode": {
    "name": "ipython",
    "version": 3
   },
   "file_extension": ".py",
   "mimetype": "text/x-python",
   "name": "python",
   "nbconvert_exporter": "python",
   "pygments_lexer": "ipython3",
   "version": "3.10.12"
  }
 },
 "nbformat": 4,
 "nbformat_minor": 5
}
