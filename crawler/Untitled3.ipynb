{
 "cells": [
  {
   "cell_type": "code",
   "execution_count": 1,
   "id": "f88f35c1-0fa5-4d66-b9aa-acfff6359afd",
   "metadata": {},
   "outputs": [
    {
     "name": "stdout",
     "output_type": "stream",
     "text": [
      "[youtube] Extracting URL: https://www.youtube.com/watch?v=e1BHIY9p2WU\n",
      "[youtube] e1BHIY9p2WU: Downloading webpage\n",
      "[youtube] e1BHIY9p2WU: Downloading ios player API JSON\n",
      "[youtube] e1BHIY9p2WU: Downloading web creator player API JSON\n",
      "[youtube] e1BHIY9p2WU: Downloading player 3abab6ef\n",
      "[youtube] e1BHIY9p2WU: Downloading m3u8 information\n"
     ]
    },
    {
     "name": "stderr",
     "output_type": "stream",
     "text": [
      "WARNING: ffmpeg not found. The downloaded format may not be the best available. Installing ffmpeg is strongly recommended: https://github.com/yt-dlp/yt-dlp#dependencies\n"
     ]
    },
    {
     "name": "stdout",
     "output_type": "stream",
     "text": [
      "Available formats:\n",
      "1: sb3 - 27p storyboard\n",
      "2: sb2 - 45p storyboard\n",
      "3: sb1 - 90p storyboard\n",
      "4: sb0 - 180p storyboard\n",
      "5: 233 - N/Ap Default\n",
      "6: 234 - N/Ap Default\n",
      "7: 139 - Nonep low\n",
      "8: 249 - Nonep low\n",
      "9: 250 - Nonep low\n",
      "10: 140 - Nonep medium\n",
      "11: 251 - Nonep medium\n",
      "12: 602 - 144p \n",
      "13: 394 - 144p 144p\n",
      "14: 269 - 144p \n",
      "15: 160 - 144p 144p\n",
      "16: 603 - 144p \n",
      "17: 278 - 144p 144p\n",
      "18: 395 - 240p 240p\n",
      "19: 229 - 240p \n",
      "20: 133 - 240p 240p\n",
      "21: 604 - 240p \n",
      "22: 242 - 240p 240p\n",
      "23: 396 - 360p 360p\n",
      "24: 230 - 360p \n",
      "25: 134 - 360p 360p\n",
      "26: 18 - 360p 360p\n",
      "27: 605 - 360p \n",
      "28: 243 - 360p 360p\n",
      "29: 397 - 480p 480p\n",
      "30: 231 - 480p \n",
      "31: 135 - 480p 480p\n",
      "32: 606 - 480p \n",
      "33: 244 - 480p 480p\n",
      "34: 398 - 720p 720p\n",
      "35: 232 - 720p \n",
      "36: 136 - 720p 720p\n",
      "37: 609 - 720p \n",
      "38: 247 - 720p 720p\n",
      "39: 399 - 1080p 1080p\n",
      "40: 270 - 1080p \n",
      "41: 137 - 1080p 1080p\n",
      "42: 614 - 1080p \n",
      "43: 248 - 1080p 1080p\n",
      "44: 400 - 1440p 1440p\n",
      "45: 620 - 1440p \n",
      "46: 271 - 1440p 1440p\n"
     ]
    },
    {
     "name": "stdin",
     "output_type": "stream",
     "text": [
      "Enter the number of the format you want to download:  46\n"
     ]
    },
    {
     "name": "stdout",
     "output_type": "stream",
     "text": [
      "Downloading: https://www.youtube.com/watch?v=e1BHIY9p2WU\n",
      "[youtube] Extracting URL: https://www.youtube.com/watch?v=e1BHIY9p2WU\n",
      "[youtube] e1BHIY9p2WU: Downloading webpage\n",
      "[youtube] e1BHIY9p2WU: Downloading ios player API JSON\n",
      "[youtube] e1BHIY9p2WU: Downloading web creator player API JSON\n",
      "[youtube] e1BHIY9p2WU: Downloading m3u8 information\n",
      "[info] e1BHIY9p2WU: Downloading 1 format(s): 271\n",
      "[download] Destination: /home/minhaj/Downloads/test/Eyy Banane - Video  ｜ Vaazha ｜ Vipin Das ｜ Anand Menen ｜ Electronic Kili ｜Siju Sunny ｜Joemon Jyothir.webm\n",
      "[download]  46.4% of  115.29MiB at  360.45KiB/s ETA 02:55  "
     ]
    },
    {
     "name": "stderr",
     "output_type": "stream",
     "text": [
      "[download] Got error: HTTPSConnectionPool(host='rr1---sn-5np5oxu-jv36.googlevideo.com', port=443): Read timed out.\n"
     ]
    },
    {
     "name": "stdout",
     "output_type": "stream",
     "text": [
      "[download] Got error: HTTPSConnectionPool(host='rr1---sn-5np5oxu-jv36.googlevideo.com', port=443): Read timed out.\n"
     ]
    }
   ],
   "source": [
    "import yt_dlp\n",
    "import os\n",
    "\n",
    "# Function to get available formats and allow user to choose one\n",
    "def get_video_formats(url):\n",
    "    with yt_dlp.YoutubeDL() as ydl:\n",
    "        info = ydl.extract_info(url, download=False)\n",
    "        formats = info.get('formats', [])\n",
    "        \n",
    "        # Display available formats\n",
    "        print(\"Available formats:\")\n",
    "        for i, fmt in enumerate(formats):\n",
    "            format_id = fmt.get('format_id')\n",
    "            resolution = fmt.get('height', 'N/A')\n",
    "            format_note = fmt.get('format_note', '')\n",
    "            print(f\"{i + 1}: {format_id} - {resolution}p {format_note}\")\n",
    "\n",
    "        # Get user choice\n",
    "        choice = int(input(\"Enter the number of the format you want to download: \")) - 1\n",
    "        selected_format = formats[choice].get('format_id')\n",
    "        return selected_format\n",
    "\n",
    "# Function to download a single video\n",
    "def download_video(url, output_path, format_id):\n",
    "    ydl_opts = {\n",
    "        'outtmpl': os.path.join(output_path, '%(title)s.%(ext)s'),\n",
    "        'format': format_id,\n",
    "    }\n",
    "    \n",
    "    try:\n",
    "        with yt_dlp.YoutubeDL(ydl_opts) as ydl:\n",
    "            print(f\"Downloading: {url}\")\n",
    "            ydl.download([url])\n",
    "            print(f\"Downloaded: {url}\")\n",
    "    except Exception as e:\n",
    "        print(f\"Failed to download {url}. Error: {e}\")\n",
    "\n",
    "# Function to download a video with user-selected quality\n",
    "def download_video_with_quality(url, output_path):\n",
    "    format_id = get_video_formats(url)\n",
    "    download_video(url, output_path, format_id)\n",
    "\n",
    "# List of YouTube video URLs\n",
    "video_urls = [\n",
    "    \"https://www.youtube.com/watch?v=e1BHIY9p2WU\",\n",
    "    # Add more URLs as needed\n",
    "]\n",
    "\n",
    "# Directory to save downloaded videos\n",
    "output_directory = \"/home/minhaj/Downloads/test\"\n",
    "\n",
    "# Ensure the output directory exists\n",
    "if not os.path.exists(output_directory):\n",
    "    os.makedirs(output_directory)\n",
    "\n",
    "# Download each video with user-selected quality\n",
    "for url in video_urls:\n",
    "    download_video_with_quality(url, output_directory)\n"
   ]
  }
 ],
 "metadata": {
  "kernelspec": {
   "display_name": "Python 3 (ipykernel)",
   "language": "python",
   "name": "python3"
  },
  "language_info": {
   "codemirror_mode": {
    "name": "ipython",
    "version": 3
   },
   "file_extension": ".py",
   "mimetype": "text/x-python",
   "name": "python",
   "nbconvert_exporter": "python",
   "pygments_lexer": "ipython3",
   "version": "3.10.12"
  }
 },
 "nbformat": 4,
 "nbformat_minor": 5
}
