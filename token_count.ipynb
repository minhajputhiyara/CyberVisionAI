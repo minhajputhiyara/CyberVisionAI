{
 "cells": [
  {
   "cell_type": "code",
   "execution_count": 4,
   "metadata": {},
   "outputs": [
    {
     "name": "stdout",
     "output_type": "stream",
     "text": [
      "Total word count of text: 398102\n"
     ]
    }
   ],
   "source": [
    "import json\n",
    "import csv\n",
    "\n",
    "# Reading the JSON file\n",
    "with open(r\"C:\\Dincy\\PhD\\Langchain\\Dr_Bazant\\multi_label.json\", 'r', encoding='utf-8') as file:\n",
    "    data = json.load(file)\n",
    "\n",
    "# Writing to CSV\n",
    "csv_file = r\"C:\\Dincy\\PhD\\Langchain\\Dr_Bazant\\multi_label.csv\"\n",
    "with open(csv_file, 'w', newline='', encoding='utf-8') as file:\n",
    "    writer = csv.DictWriter(file, fieldnames=[\"sentence\", \"labels\", \"doc_title\"])\n",
    "    writer.writeheader()\n",
    "    for entry in data:\n",
    "        writer.writerow(entry)\n",
    "\n",
    "# Calculating total word count of text\n",
    "total_word_count = sum(len(entry[\"sentence\"].split()) for entry in data)\n",
    "print(f'Total word count of text: {total_word_count}')\n"
   ]
  },
  {
   "cell_type": "code",
   "execution_count": 2,
   "metadata": {},
   "outputs": [
    {
     "name": "stdout",
     "output_type": "stream",
     "text": [
      "Total word count of text: 44368\n"
     ]
    }
   ],
   "source": [
    "import json\n",
    "import csv\n",
    "\n",
    "# Reading the JSON file\n",
    "with open(r\"/home/user/Desktop/CyberVisionAI/single_label.json\", 'r', encoding='utf-8') as file:\n",
    "    data = json.load(file)\n",
    "\n",
    "# Writing to CSV\n",
    "csv_file = r\"/home/user/Desktop/CyberVisionAI/single_label.csv\"\n",
    "with open(csv_file, 'w', newline='', encoding='utf-8') as file:\n",
    "    writer = csv.DictWriter(file, fieldnames=[\"text\", \"label\", \"doc_title\"])\n",
    "    writer.writeheader()\n",
    "    for entry in data:\n",
    "        writer.writerow(entry)\n",
    "\n",
    "# Calculating total word count of text\n",
    "total_word_count = sum(len(entry[\"text\"].split()) for entry in data)\n",
    "print(f'Total word count of text: {total_word_count}')\n"
   ]
  },
  {
   "cell_type": "code",
   "execution_count": 8,
   "metadata": {},
   "outputs": [
    {
     "name": "stdout",
     "output_type": "stream",
     "text": [
      "Total word count of text: 407892\n"
     ]
    }
   ],
   "source": [
    "import pandas as pd\n",
    "df=pd.read_csv(r\"C:\\Dincy\\PhD\\Langchain\\Dr_Bazant\\attack_original.csv\")\n",
    "# Extracting the 'text' column\n",
    "text_column = df['text']\n",
    "\n",
    "# Calculating the total word count\n",
    "total_word_count = text_column.apply(lambda x: len(x.split())).sum()\n",
    "print(f'Total word count of text: {total_word_count}')"
   ]
  },
  {
   "cell_type": "code",
   "execution_count": 4,
   "metadata": {},
   "outputs": [
    {
     "name": "stdout",
     "output_type": "stream",
     "text": [
      "File name: /home/user/Desktop/CyberVisionAI/single_label.csv\n",
      "Column names: ['text', 'label']\n",
      "Number of rows: 5089\n",
      "Number of columns: 2\n",
      "First few rows:\n",
      "                                                text      label\n",
      "0  This file extracts credentials from LSASS simi...  T1003.001\n",
      "1  It calls OpenProcess on lsass.exe with access ...  T1003.001\n",
      "2  It spreads to Microsoft Windows machines using...      T1210\n",
      "3                   SMB exploitation via EternalBlue      T1210\n",
      "4                 SMBv1 Exploitation via EternalBlue      T1210\n",
      "Descriptive statistics:\n",
      "                                  text  label\n",
      "count                             5088   5085\n",
      "unique                            4815     53\n",
      "top     C:\\Windows\\system32\\cmd.exe /C  T1027\n",
      "freq                                30    683\n",
      "Cleaned data saved to: /home/user/Desktop/CyberVisionAI/single_label_cleaned.csv\n"
     ]
    }
   ],
   "source": [
    "import pandas as pd\n",
    "\n",
    "# Reading the CSV file\n",
    "csv_file = r\"/home/user/Desktop/CyberVisionAI/single_label.csv\"\n",
    "data = pd.read_csv(csv_file)\n",
    "\n",
    "# Removing the \"Unnamed\" column\n",
    "if 'Unnamed: 2' in data.columns:\n",
    "    data = data.drop(columns=['Unnamed: 2'])\n",
    "\n",
    "# Printing the file name\n",
    "print(f'File name: {csv_file}')\n",
    "\n",
    "# Printing the column names\n",
    "print('Column names:', data.columns.tolist())\n",
    "\n",
    "# Printing the number of rows and columns\n",
    "print(f'Number of rows: {data.shape[0]}')\n",
    "print(f'Number of columns: {data.shape[1]}')\n",
    "\n",
    "# Printing the first few rows of the dataframe\n",
    "print('First few rows:')\n",
    "print(data.head())\n",
    "\n",
    "# Descriptive statistics for numerical columns\n",
    "print('Descriptive statistics:')\n",
    "print(data.describe(include='all'))\n",
    "\n",
    "# Optionally, save the cleaned data back to a CSV file\n",
    "cleaned_csv_file = r\"/home/user/Desktop/CyberVisionAI/single_label_cleaned.csv\"\n",
    "data.to_csv(cleaned_csv_file, index=False)\n",
    "print(f'Cleaned data saved to: {cleaned_csv_file}')\n"
   ]
  },
  {
   "cell_type": "code",
   "execution_count": null,
   "metadata": {},
   "outputs": [],
   "source": []
  }
 ],
 "metadata": {
  "kernelspec": {
   "display_name": "Python 3 (ipykernel)",
   "language": "python",
   "name": "python3"
  },
  "language_info": {
   "codemirror_mode": {
    "name": "ipython",
    "version": 3
   },
   "file_extension": ".py",
   "mimetype": "text/x-python",
   "name": "python",
   "nbconvert_exporter": "python",
   "pygments_lexer": "ipython3",
   "version": "3.10.12"
  }
 },
 "nbformat": 4,
 "nbformat_minor": 4
}
